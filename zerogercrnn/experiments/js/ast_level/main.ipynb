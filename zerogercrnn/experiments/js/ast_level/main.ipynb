{
 "cells": [
  {
   "cell_type": "code",
   "execution_count": 1,
   "metadata": {
    "collapsed": false
   },
   "outputs": [],
   "source": [
    "%load_ext autoreload"
   ]
  },
  {
   "cell_type": "code",
   "execution_count": 2,
   "metadata": {
    "collapsed": true
   },
   "outputs": [],
   "source": [
    "%autoreload 2"
   ]
  },
  {
   "cell_type": "code",
   "execution_count": null,
   "metadata": {
    "collapsed": false
   },
   "outputs": [],
   "source": [
    "import os\n",
    "from tqdm import tqdm\n",
    "\n",
    "import numpy as np\n",
    "import torch\n",
    "import torch.nn as nn\n",
    "import torch.optim as optim\n",
    "from torch.optim.lr_scheduler import MultiStepLR\n",
    "\n",
    "from zerogercrnn.lib.data.general import DataGenerator\n",
    "from zerogercrnn.lib.train.run import TrainEpochRunner\n",
    "\n",
    "from zerogercrnn.experiments.js.ast_level.data import ASTDataGenerator, SourceFile, DataReader, MockDataReader\n",
    "from zerogercrnn.experiments.js.ast_level.network_base_lstm import JSBaseModel\n",
    "from zerogercrnn.experiments.js.ast_level.train import ASTRoutine\n",
    "from zerogercrnn.experiments.js.ast_level.raw_data import ENCODING"
   ]
  },
  {
   "cell_type": "code",
   "execution_count": 4,
   "metadata": {
    "collapsed": true
   },
   "outputs": [],
   "source": [
    "DIR_DATASET = '/Users/zerogerc/Documents/datasets/js_dataset.tar/processed'\n",
    "\n",
    "FILE_TRAINING = os.path.join(DIR_DATASET, 'programs_training_one_hot.json')\n",
    "FILE_EVAL = os.path.join(DIR_DATASET, 'programs_eval_one_hot.json')\n",
    "\n",
    "SEQ_LEN = 50\n",
    "BATCH_SIZE = 80\n",
    "LEARNING_RATE = 0.05\n",
    "EPOCHS = 50\n",
    "DECAY_AFTER_EPOCH = 0\n",
    "\n",
    "EMBEDDING_SIZE = 100\n",
    "HIDDEN_SIZE = 500\n",
    "NUM_LAYERS = 1\n",
    "DROPOUT = 0.01\n",
    "\n",
    "NON_TERMINALS_SIZE = 96 + 1 # 96 + EOF\n",
    "TERMINALS_SIZE = 50000 + 2 # 50000 + EMPTY + UNKNOWN"
   ]
  },
  {
   "cell_type": "code",
   "execution_count": 5,
   "metadata": {
    "collapsed": false
   },
   "outputs": [],
   "source": [
    "# reader = DataReader(\n",
    "#     file_training=FILE_TRAINING,\n",
    "#     file_eval=FILE_EVAL,\n",
    "#     encoding=ENCODING\n",
    "# )\n",
    "reader = MockDataReader()"
   ]
  },
  {
   "cell_type": "code",
   "execution_count": 6,
   "metadata": {
    "collapsed": false
   },
   "outputs": [
    {
     "name": "stderr",
     "output_type": "stream",
     "text": [
      "100%|██████████| 100/100 [00:00<00:00, 17652.05it/s]\n",
      "100%|██████████| 100/100 [00:00<00:00, 19309.01it/s]\n"
     ]
    }
   ],
   "source": [
    "data_generator = ASTDataGenerator(\n",
    "    data_reader=reader,\n",
    "    seq_len=SEQ_LEN,\n",
    "    batch_size=BATCH_SIZE\n",
    ")"
   ]
  },
  {
   "cell_type": "code",
   "execution_count": 7,
   "metadata": {
    "collapsed": false
   },
   "outputs": [
    {
     "name": "stdout",
     "output_type": "stream",
     "text": [
      "0.029071807861328125s\n"
     ]
    }
   ],
   "source": [
    "# performance measure (time needed to iterate through whole epoch of train data)\n",
    "import time\n",
    "\n",
    "start = time.time()\n",
    "for data in data_generator.get_train_generator():\n",
    "    N, T = data[0], data[1]\n",
    "end = time.time()\n",
    "print('{}s'.format(end - start))"
   ]
  },
  {
   "cell_type": "code",
   "execution_count": 8,
   "metadata": {
    "collapsed": false
   },
   "outputs": [],
   "source": [
    "network = JSBaseModel(\n",
    "    non_terminal_vocab_size = NON_TERMINALS_SIZE,\n",
    "    terminal_vocab_size = TERMINALS_SIZE,\n",
    "    embedding_size = EMBEDDING_SIZE,\n",
    "    hidden_size = HIDDEN_SIZE,\n",
    "    num_layers=NUM_LAYERS,\n",
    "    dropout=DROPOUT\n",
    ")"
   ]
  },
  {
   "cell_type": "code",
   "execution_count": 9,
   "metadata": {
    "collapsed": true
   },
   "outputs": [],
   "source": [
    "optimizer = optim.Adam(params=network.parameters(), lr=LEARNING_RATE)\n",
    "scheduler = MultiStepLR(\n",
    "    optimizer=optimizer,\n",
    "    milestones=list(range(DECAY_AFTER_EPOCH, EPOCHS + 1)),\n",
    "    gamma=0.95\n",
    ")\n",
    "base_criterion = nn.NLLLoss()"
   ]
  },
  {
   "cell_type": "code",
   "execution_count": 10,
   "metadata": {
    "collapsed": false
   },
   "outputs": [],
   "source": [
    "def criterion(n_output, n_target):\n",
    "    \"\"\"Expect n_output and n_target to be pair of (N, T).\n",
    "        Return loss as a sum of NLL losses for non-terminal(N) and terminal(T). \n",
    "    \"\"\"\n",
    "    sz_non_terminal = n_output[0].size()[-1]\n",
    "    # flatten tensors to compute NLLLoss\n",
    "    loss_non_terminal = base_criterion(\n",
    "        n_output[0].view(-1, sz_non_terminal),\n",
    "        n_target[0].view(-1)\n",
    "    )\n",
    "        \n",
    "    sz_terminal = n_output[1].size()[-1]\n",
    "    # flatten tensors to compute NLLLoss\n",
    "    loss_terminal = base_criterion(\n",
    "        n_output[1].view(-1, sz_terminal),\n",
    "        n_target[1].view(-1)\n",
    "    )\n",
    "    \n",
    "    return loss_non_terminal + loss_terminal"
   ]
  },
  {
   "cell_type": "code",
   "execution_count": 11,
   "metadata": {
    "collapsed": true
   },
   "outputs": [],
   "source": [
    "train_routine = ASTRoutine(\n",
    "    network=network,\n",
    "    criterion=criterion,\n",
    "    optimizer=optimizer\n",
    ")\n",
    "\n",
    "validation_routine = ASTRoutine(\n",
    "    network=network,\n",
    "    criterion=criterion,\n",
    "    optimizer=optimizer\n",
    ")"
   ]
  },
  {
   "cell_type": "code",
   "execution_count": 12,
   "metadata": {
    "collapsed": false
   },
   "outputs": [],
   "source": [
    "runner = TrainEpochRunner(\n",
    "    network=network,\n",
    "    train_routine=train_routine,\n",
    "    validation_routine=validation_routine,\n",
    "    data_generator=data_generator,\n",
    "    scheduler=scheduler,\n",
    "    plotter='visdom'\n",
    "    # save_dir=os.path.join(os.getcwd(), 'saved_models')\n",
    ")"
   ]
  },
  {
   "cell_type": "code",
   "execution_count": 13,
   "metadata": {
    "collapsed": false
   },
   "outputs": [
    {
     "name": "stdout",
     "output_type": "stream",
     "text": [
      "start\n",
      "squeeze\n",
      "embedded\n",
      "permuted\n",
      "lstmed\n",
      "non_terminal_converted\n",
      "terminal_converted\n",
      "finish\n"
     ]
    },
    {
     "name": "stderr",
     "output_type": "stream",
     "text": [
      "\r",
      "  0%|          | 0/50 [00:00<?, ?it/s]"
     ]
    },
    {
     "name": "stdout",
     "output_type": "stream",
     "text": [
      "New point to validation: 0 15.357542991638184\n",
      "Epoch: -1, Average loss: 15.357542991638184\n",
      "start\n",
      "squeeze\n",
      "embedded\n",
      "permuted\n",
      "lstmed\n",
      "non_terminal_converted\n",
      "terminal_converted\n",
      "finish\n",
      "Loss: 4.177548885345459\n",
      "New point to train: 0 4.177548885345459\n",
      "start\n",
      "squeeze\n",
      "embedded\n",
      "permuted\n",
      "lstmed\n",
      "non_terminal_converted\n",
      "terminal_converted\n",
      "finish\n",
      "Loss: 24.06134605407715\n",
      "New point to train: 1 24.06134605407715\n",
      "start\n",
      "squeeze\n",
      "embedded\n",
      "permuted\n",
      "lstmed\n",
      "non_terminal_converted\n",
      "-----------------------------------------------------------------------------------------\n",
      "Exiting from training early\n"
     ]
    }
   ],
   "source": [
    "runner.run(number_of_epochs=EPOCHS)"
   ]
  },
  {
   "cell_type": "code",
   "execution_count": null,
   "metadata": {
    "collapsed": true
   },
   "outputs": [],
   "source": []
  }
 ],
 "metadata": {
  "kernelspec": {
   "display_name": "Python 3",
   "language": "python",
   "name": "python3"
  },
  "language_info": {
   "codemirror_mode": {
    "name": "ipython",
    "version": 3
   },
   "file_extension": ".py",
   "mimetype": "text/x-python",
   "name": "python",
   "nbconvert_exporter": "python",
   "pygments_lexer": "ipython3",
   "version": "3.6.3"
  }
 },
 "nbformat": 4,
 "nbformat_minor": 0
}
